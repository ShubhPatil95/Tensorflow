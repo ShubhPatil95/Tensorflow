{
 "cells": [
  {
   "cell_type": "code",
   "execution_count": 3,
   "id": "df9eda81",
   "metadata": {},
   "outputs": [],
   "source": [
    "import tensorflow as tf"
   ]
  },
  {
   "cell_type": "markdown",
   "id": "4f88c9e7",
   "metadata": {},
   "source": [
    "### Initialization of Tensors"
   ]
  },
  {
   "cell_type": "code",
   "execution_count": 28,
   "id": "f918994f",
   "metadata": {},
   "outputs": [
    {
     "name": "stdout",
     "output_type": "stream",
     "text": [
      "One Dimension Tensors tf.Tensor([[4.]], shape=(1, 1), dtype=float32) \n",
      "\n",
      "Two Dimension Tensors tf.Tensor(\n",
      "[[1 2 3]\n",
      " [4 5 6]], shape=(2, 3), dtype=int32) \n",
      "\n",
      "one tf.Tensor(\n",
      "[[1. 1. 1.]\n",
      " [1. 1. 1.]\n",
      " [1. 1. 1.]], shape=(3, 3), dtype=float32) \n",
      "\n",
      "zeros tf.Tensor(\n",
      "[[0. 0. 0.]\n",
      " [0. 0. 0.]], shape=(2, 3), dtype=float32) \n",
      "\n",
      "Identity Matrix tf.Tensor(\n",
      "[[1. 0. 0.]\n",
      " [0. 1. 0.]\n",
      " [0. 0. 1.]], shape=(3, 3), dtype=float32) \n",
      "\n",
      "Random_Normal tf.Tensor(\n",
      "[[-0.9645931  -0.16777554 -1.869359  ]\n",
      " [-0.9685218   0.08949853  0.87292   ]\n",
      " [-0.22236216  0.73477834  0.22861889]], shape=(3, 3), dtype=float32) \n",
      "\n",
      "Uniform tf.Tensor([[0.42543733 0.60629964 0.7856895 ]], shape=(1, 3), dtype=float32) \n",
      "\n",
      "Rannge tf.Tensor([1 3 5 7 9], shape=(5,), dtype=int32) \n",
      "\n",
      "Cast tf.Tensor([1. 3. 5. 7. 9.], shape=(5,), dtype=float64) \n",
      "\n"
     ]
    }
   ],
   "source": [
    "x=tf.constant(4,shape=(1,1),dtype=tf.float32)\n",
    "print(\"One Dimension Tensors\",x,\"\\n\",end=\"\\n\")\n",
    "\n",
    "x=tf.constant([[1,2,3],[4,5,6]])\n",
    "print(\"Two Dimension Tensors\",x,\"\\n\",end=\"\\n\")\n",
    "\n",
    "x=tf.ones((3,3))\n",
    "print(\"one\",x,\"\\n\",end=\"\\n\")\n",
    "\n",
    "x=tf.zeros((2,3))\n",
    "print(\"zeros\",x,\"\\n\",end=\"\\n\")\n",
    "\n",
    "x=tf.eye(3)\n",
    "print(\"Identity Matrix\",x,\"\\n\",end=\"\\n\")\n",
    "\n",
    "x=tf.random.normal((3,3),mean=0,stddev=1)\n",
    "print(\"Random_Normal\",x,\"\\n\",end=\"\\n\")\n",
    "\n",
    "x=tf.random.uniform((1,3),minval=0,maxval=1)\n",
    "print(\"Uniform\",x,\"\\n\",end=\"\\n\")\n",
    "\n",
    "x=tf.range(start=1,limit=10,delta=2)\n",
    "print(\"Rannge\",x,\"\\n\",end=\"\\n\")\n",
    "\n",
    "x=tf.cast(x,dtype=tf.float64)\n",
    "print(\"Cast\",x,\"\\n\",end=\"\\n\") ## tf.float(16,32,64),tf.int(16,32,64),if.bool"
   ]
  },
  {
   "cell_type": "markdown",
   "id": "de56bbb1",
   "metadata": {},
   "source": [
    "### Mathematical Operations"
   ]
  },
  {
   "cell_type": "code",
   "execution_count": 50,
   "id": "74462c23",
   "metadata": {},
   "outputs": [
    {
     "name": "stdout",
     "output_type": "stream",
     "text": [
      "Add==> tf.Tensor([10 10 10], shape=(3,), dtype=int32) \n",
      "\n",
      "multilply==> tf.Tensor([ 9 16 21], shape=(3,), dtype=int32) \n",
      "\n",
      "divide==> tf.Tensor([0.11111111 0.25       0.42857143], shape=(3,), dtype=float64) \n",
      "\n",
      "Dot Product tf.Tensor(46, shape=(), dtype=int32) \n",
      "\n",
      "MatMul tf.Tensor(\n",
      "[[ 0.02028584 -1.3825288  -0.43613708  1.1907189 ]\n",
      " [ 0.21841356 -2.7274714  -0.0795099   2.1014621 ]], shape=(2, 4), dtype=float32) \n",
      "\n"
     ]
    }
   ],
   "source": [
    "x=tf.constant([1,2,3])\n",
    "y=tf.constant([9,8,7])\n",
    "z=tf.add(x,y) ## x+y can also work\n",
    "print(\"Add==>\",z,\"\\n\",end=\"\\n\")\n",
    "\n",
    "z=tf.multiply(x,y) ## X*Y can also work\n",
    "print(\"multilply==>\",z,\"\\n\",end=\"\\n\") \n",
    "\n",
    "z=tf.divide(x,y)  ## X/Y can also work\n",
    "print(\"divide==>\",z,\"\\n\",end=\"\\n\") \n",
    "\n",
    "z=tf.tensordot(x,y,axes=1) ##dot prodcut\n",
    "print(\"Dot Product\",z,\"\\n\",end=\"\\n\") \n",
    "\n",
    "x=tf.random.normal((2,3))\n",
    "y=tf.random.normal((3,4))\n",
    "z=tf.matmul(x,y)\n",
    "print(\"MatMul\",z,\"\\n\",end=\"\\n\")\n"
   ]
  },
  {
   "cell_type": "markdown",
   "id": "6e3e3601",
   "metadata": {},
   "source": [
    "### Indexing"
   ]
  },
  {
   "cell_type": "code",
   "execution_count": 53,
   "id": "dba0fd5a",
   "metadata": {},
   "outputs": [
    {
     "name": "stdout",
     "output_type": "stream",
     "text": [
      "tf.Tensor([0 1 1 2 3 1 2 3], shape=(8,), dtype=int32)\n",
      "tf.Tensor([1 1 2 3 1 2 3], shape=(7,), dtype=int32)\n",
      "tf.Tensor([1 1], shape=(2,), dtype=int32)\n",
      "tf.Tensor([3 2 1 3 2 1 1 0], shape=(8,), dtype=int32)\n"
     ]
    }
   ],
   "source": [
    "x=tf.constant([0,1,1,2,3,1,2,3])\n",
    "print(x[:])\n",
    "print(x[1:])\n",
    "print(x[1:3])\n",
    "print(x[::-1])"
   ]
  },
  {
   "cell_type": "code",
   "execution_count": 55,
   "id": "0d57aa79",
   "metadata": {},
   "outputs": [
    {
     "name": "stdout",
     "output_type": "stream",
     "text": [
      "tf.Tensor([0 2], shape=(2,), dtype=int32)\n"
     ]
    }
   ],
   "source": [
    "indices=tf.constant([0,3]) ## we are providing index of 0 and 2 from x\n",
    "x_ind=tf.gather(x,indices)\n",
    "print(x_ind)  ## irt will return 0 and 2 from x"
   ]
  },
  {
   "cell_type": "code",
   "execution_count": 62,
   "id": "d119f5a0",
   "metadata": {},
   "outputs": [
    {
     "name": "stdout",
     "output_type": "stream",
     "text": [
      "tf.Tensor([1 2], shape=(2,), dtype=int32)\n",
      "tf.Tensor([7 8], shape=(2,), dtype=int32)\n",
      "tf.Tensor([2 4 6 8], shape=(4,), dtype=int32)\n"
     ]
    }
   ],
   "source": [
    "x=tf.constant([[1,2],\n",
    "              [3,4],\n",
    "              [5,6],\n",
    "              [7,8]])\n",
    "print(x[0,:]) ## first row\n",
    "\n",
    "print(x[-1,:]) ## last row\n",
    "\n",
    "print(x[:,-1])## last column"
   ]
  },
  {
   "cell_type": "markdown",
   "id": "0caacd1a",
   "metadata": {},
   "source": [
    "### Reshaping"
   ]
  },
  {
   "cell_type": "code",
   "execution_count": 70,
   "id": "7f00032e",
   "metadata": {},
   "outputs": [
    {
     "name": "stdout",
     "output_type": "stream",
     "text": [
      "Original tf.Tensor([0 1 2 3 4 5 6 7 8], shape=(9,), dtype=int32)\n",
      "Reshape tf.Tensor(\n",
      "[[0 1 2]\n",
      " [3 4 5]\n",
      " [6 7 8]], shape=(3, 3), dtype=int32)\n",
      "tf.Tensor(\n",
      "[[0 3 6]\n",
      " [1 4 7]\n",
      " [2 5 8]], shape=(3, 3), dtype=int32)\n"
     ]
    }
   ],
   "source": [
    "x=tf.range(9)\n",
    "print(\"Original\",x)\n",
    "\n",
    "x=tf.reshape(x,(3,3))\n",
    "print(\"Reshape\",x)\n",
    "\n",
    "x=tf.transpose(x,perm=[1,0])\n",
    "print(x)"
   ]
  },
  {
   "cell_type": "markdown",
   "id": "7090ca64",
   "metadata": {},
   "source": [
    "## Neural Networks with Sequential and Functional API"
   ]
  },
  {
   "cell_type": "code",
   "execution_count": 15,
   "id": "8456fee4",
   "metadata": {},
   "outputs": [],
   "source": [
    "import tensorflow as tf\n",
    "import os\n",
    "os.environ[\"TFF_CPP_MIN_LOG_LEVEL\"]=\"2\"\n",
    "from tensorflow import keras\n",
    "from tensorflow.keras import layers\n",
    "from tensorflow.keras.datasets import mnist\n",
    "import numpy as np"
   ]
  },
  {
   "cell_type": "code",
   "execution_count": 96,
   "id": "99dc4ff3",
   "metadata": {},
   "outputs": [
    {
     "name": "stdout",
     "output_type": "stream",
     "text": [
      "(60000, 28, 28)\n",
      "(60000,)\n",
      "255\n",
      "1.0\n"
     ]
    }
   ],
   "source": [
    "(x_train,y_train),(x_test,y_test)=mnist.load_data()\n",
    "print(x_train.shape)\n",
    "print(y_train.shape)\n",
    "print(np.max(x_train))\n",
    "## flatten the images and then normalize them\n",
    "x_train=x_train.reshape(-1,28*28)/255\n",
    "x_test=x_test.reshape(-1,28*28)/255\n",
    "print(np.max(x_train))\n",
    "\n",
    "## x_train=tf.convert_to_tensor(x_train) ## no need to do this as tensorflow automatically convert numpy array to tensors"
   ]
  },
  {
   "cell_type": "markdown",
   "id": "c378fdc5",
   "metadata": {},
   "source": [
    "## Sequential API (very convenient, not very flexible)\n",
    "- one input and one output then use this one"
   ]
  },
  {
   "cell_type": "code",
   "execution_count": 106,
   "id": "b1a2f69a",
   "metadata": {},
   "outputs": [
    {
     "name": "stdout",
     "output_type": "stream",
     "text": [
      "Model: \"sequential_25\"\n",
      "_________________________________________________________________\n",
      "Layer (type)                 Output Shape              Param #   \n",
      "=================================================================\n",
      "dense_79 (Dense)             (None, 512)               401920    \n",
      "_________________________________________________________________\n",
      "dense_80 (Dense)             (None, 256)               131328    \n",
      "=================================================================\n",
      "Total params: 533,248\n",
      "Trainable params: 533,248\n",
      "Non-trainable params: 0\n",
      "_________________________________________________________________\n",
      "None\n",
      "Model: \"sequential_25\"\n",
      "_________________________________________________________________\n",
      "Layer (type)                 Output Shape              Param #   \n",
      "=================================================================\n",
      "dense_79 (Dense)             (None, 512)               401920    \n",
      "_________________________________________________________________\n",
      "dense_80 (Dense)             (None, 256)               131328    \n",
      "_________________________________________________________________\n",
      "dense_81 (Dense)             (None, 10)                2570      \n",
      "=================================================================\n",
      "Total params: 535,818\n",
      "Trainable params: 535,818\n",
      "Non-trainable params: 0\n",
      "_________________________________________________________________\n",
      "None\n",
      "Epoch 1/5\n",
      "1875/1875 [==============================] - 5s 2ms/step - loss: 0.2019 - accuracy: 0.9399\n",
      "Epoch 2/5\n",
      "1875/1875 [==============================] - 5s 2ms/step - loss: 0.0826 - accuracy: 0.9742\n",
      "Epoch 3/5\n",
      "1875/1875 [==============================] - 5s 3ms/step - loss: 0.0586 - accuracy: 0.9816\n",
      "Epoch 4/5\n",
      "1875/1875 [==============================] - 5s 3ms/step - loss: 0.0425 - accuracy: 0.9864\n",
      "Epoch 5/5\n",
      "1875/1875 [==============================] - 5s 3ms/step - loss: 0.0353 - accuracy: 0.9882\n",
      "313/313 - 0s - loss: 0.0813 - accuracy: 0.9781\n"
     ]
    },
    {
     "data": {
      "text/plain": [
       "[0.08130016922950745, 0.9781000018119812]"
      ]
     },
     "execution_count": 106,
     "metadata": {},
     "output_type": "execute_result"
    }
   ],
   "source": [
    "# model=keras.Sequential(\n",
    "#     [\n",
    "#         ## keras.Input(shape=(28*28)),## optional can be done in below step as well\n",
    "#         layers.Dense(512,activation=\"relu\",input_shape=(28*28)),\n",
    "#         layers.Dense(256,activation=\"relu\"),\n",
    "#         layers.Dense(10),\n",
    "#     ])\n",
    "\n",
    "# above and below are the same way\n",
    "\n",
    "model=keras.Sequential()\n",
    "model.add(tf.keras.Input(shape=(784)))\n",
    "model.add(layers.Dense(512,activation=\"relu\"))\n",
    "# print(model.summary())## common debugging purpose you can use\n",
    "model.add(layers.Dense(256,activation=\"relu\"))\n",
    "print(model.summary())\n",
    "model.add(layers.Dense(10,))\n",
    "\n",
    "print(model.summary())\n",
    "\n",
    "model.compile(\n",
    "    loss=keras.losses.SparseCategoricalCrossentropy(from_logits=True),\n",
    "    optimizer=keras.optimizers.Adam(lr=0.001),\n",
    "    metrics=[\"accuracy\"],\n",
    "             )\n",
    "\n",
    "model.fit(x_train,y_train,batch_size=32,epochs=5,verbose=True)\n",
    "\n",
    "model.evaluate(x_test,y_test,batch_size=32,verbose=2)\n"
   ]
  },
  {
   "cell_type": "code",
   "execution_count": 109,
   "id": "80514c3b",
   "metadata": {},
   "outputs": [
    {
     "data": {
      "text/plain": [
       "array([2.8388565e-12, 1.1138582e-08, 9.9988770e-01, 2.6501693e-06,\n",
       "       7.0207035e-16, 4.4997297e-14, 1.7891786e-15, 1.2902313e-08,\n",
       "       2.3956714e-10, 2.4637131e-13], dtype=float32)"
      ]
     },
     "execution_count": 109,
     "metadata": {},
     "output_type": "execute_result"
    }
   ],
   "source": [
    "model.predict(x_test)[1]"
   ]
  },
  {
   "cell_type": "markdown",
   "id": "267683eb",
   "metadata": {},
   "source": [
    "### Functional API (A bit more flexible)"
   ]
  },
  {
   "cell_type": "code",
   "execution_count": 56,
   "id": "1feff729",
   "metadata": {
    "scrolled": true
   },
   "outputs": [
    {
     "name": "stdout",
     "output_type": "stream",
     "text": [
      "Model: \"functional_9\"\n",
      "_________________________________________________________________\n",
      "Layer (type)                 Output Shape              Param #   \n",
      "=================================================================\n",
      "INPUT_LAYER (InputLayer)     [(None, 784)]             0         \n",
      "_________________________________________________________________\n",
      "FIRST_LAYER (Dense)          (None, 512)               401920    \n",
      "_________________________________________________________________\n",
      "SECOND_LAYER (Dense)         (None, 256)               131328    \n",
      "_________________________________________________________________\n",
      "OUTPUT_LAYER (Dense)         (None, 10)                2570      \n",
      "=================================================================\n",
      "Total params: 535,818\n",
      "Trainable params: 535,818\n",
      "Non-trainable params: 0\n",
      "_________________________________________________________________\n",
      "None\n",
      "Epoch 1/5\n",
      "1875/1875 [==============================] - 4s 2ms/step - loss: 1.3742 - accuracy: 0.9002\n",
      "Epoch 2/5\n",
      "1875/1875 [==============================] - 4s 2ms/step - loss: 0.2032 - accuracy: 0.9449\n",
      "Epoch 3/5\n",
      "1875/1875 [==============================] - 5s 2ms/step - loss: 0.1733 - accuracy: 0.9542\n",
      "Epoch 4/5\n",
      "1875/1875 [==============================] - 5s 2ms/step - loss: 0.1513 - accuracy: 0.9596\n",
      "Epoch 5/5\n",
      "1875/1875 [==============================] - 5s 2ms/step - loss: 0.1327 - accuracy: 0.9636\n",
      "313/313 - 0s - loss: 0.2302 - accuracy: 0.9526\n"
     ]
    },
    {
     "data": {
      "text/plain": [
       "[0.2302073985338211, 0.9526000022888184]"
      ]
     },
     "execution_count": 56,
     "metadata": {},
     "output_type": "execute_result"
    }
   ],
   "source": [
    "inputs=keras.Input(shape=(784),name=\"INPUT_LAYER\")\n",
    "x=layers.Dense(512,activation=\"relu\",name=\"FIRST_LAYER\")(inputs)\n",
    "x=layers.Dense(256,activation=\"relu\",name=\"SECOND_LAYER\")(x)\n",
    "outputs=layers.Dense(10,activation=\"softmax\",name=\"OUTPUT_LAYER\")(x)\n",
    "model=keras.Model(inputs=inputs,outputs=outputs)\n",
    "\n",
    "print(model.summary())\n",
    "\n",
    "model.compile(\n",
    "    loss=keras.losses.SparseCategoricalCrossentropy(from_logits=False),\n",
    "    optimizer=keras.optimizers.Adam(lr=0.001),\n",
    "    metrics=[\"accuracy\"],\n",
    "             )\n",
    "\n",
    "model.fit(x_train,y_train,batch_size=32,epochs=5,verbose=True)\n",
    "\n",
    "model.evaluate(x_test,y_test,batch_size=32,verbose=2)"
   ]
  },
  {
   "cell_type": "code",
   "execution_count": 116,
   "id": "ffd6dce8",
   "metadata": {},
   "outputs": [
    {
     "name": "stdout",
     "output_type": "stream",
     "text": [
      "Model: \"sequential_29\"\n",
      "_________________________________________________________________\n",
      "Layer (type)                 Output Shape              Param #   \n",
      "=================================================================\n",
      "dense_85 (Dense)             (None, 1)                 2         \n",
      "=================================================================\n",
      "Total params: 2\n",
      "Trainable params: 2\n",
      "Non-trainable params: 0\n",
      "_________________________________________________________________\n",
      "None\n",
      "Epoch 1/100\n",
      "1/1 [==============================] - 0s 2ms/step - loss: 121.3346\n",
      "Epoch 2/100\n",
      "1/1 [==============================] - 0s 975us/step - loss: 14.9462\n",
      "Epoch 3/100\n",
      "1/1 [==============================] - 0s 0s/step - loss: 1.8557\n",
      "Epoch 4/100\n",
      "1/1 [==============================] - 0s 977us/step - loss: 0.2449\n",
      "Epoch 5/100\n",
      "1/1 [==============================] - 0s 976us/step - loss: 0.0466\n",
      "Epoch 6/100\n",
      "1/1 [==============================] - 0s 0s/step - loss: 0.0220\n",
      "Epoch 7/100\n",
      "1/1 [==============================] - 0s 1ms/step - loss: 0.0189\n",
      "Epoch 8/100\n",
      "1/1 [==============================] - 0s 977us/step - loss: 0.0184\n",
      "Epoch 9/100\n",
      "1/1 [==============================] - 0s 976us/step - loss: 0.0182\n",
      "Epoch 10/100\n",
      "1/1 [==============================] - 0s 1ms/step - loss: 0.0180\n",
      "Epoch 11/100\n",
      "1/1 [==============================] - 0s 977us/step - loss: 0.0179\n",
      "Epoch 12/100\n",
      "1/1 [==============================] - 0s 1ms/step - loss: 0.0177\n",
      "Epoch 13/100\n",
      "1/1 [==============================] - 0s 0s/step - loss: 0.0176\n",
      "Epoch 14/100\n",
      "1/1 [==============================] - 0s 0s/step - loss: 0.0174\n",
      "Epoch 15/100\n",
      "1/1 [==============================] - 0s 0s/step - loss: 0.0173\n",
      "Epoch 16/100\n",
      "1/1 [==============================] - 0s 1ms/step - loss: 0.0171\n",
      "Epoch 17/100\n",
      "1/1 [==============================] - 0s 0s/step - loss: 0.0170\n",
      "Epoch 18/100\n",
      "1/1 [==============================] - 0s 976us/step - loss: 0.0169\n",
      "Epoch 19/100\n",
      "1/1 [==============================] - 0s 0s/step - loss: 0.0167\n",
      "Epoch 20/100\n",
      "1/1 [==============================] - 0s 0s/step - loss: 0.0166\n",
      "Epoch 21/100\n",
      "1/1 [==============================] - 0s 977us/step - loss: 0.0164\n",
      "Epoch 22/100\n",
      "1/1 [==============================] - 0s 0s/step - loss: 0.0163\n",
      "Epoch 23/100\n",
      "1/1 [==============================] - 0s 0s/step - loss: 0.0162\n",
      "Epoch 24/100\n",
      "1/1 [==============================] - 0s 0s/step - loss: 0.0160\n",
      "Epoch 25/100\n",
      "1/1 [==============================] - 0s 976us/step - loss: 0.0159\n",
      "Epoch 26/100\n",
      "1/1 [==============================] - 0s 0s/step - loss: 0.0158\n",
      "Epoch 27/100\n",
      "1/1 [==============================] - 0s 977us/step - loss: 0.0157\n",
      "Epoch 28/100\n",
      "1/1 [==============================] - 0s 996us/step - loss: 0.0155\n",
      "Epoch 29/100\n",
      "1/1 [==============================] - 0s 952us/step - loss: 0.0154\n",
      "Epoch 30/100\n",
      "1/1 [==============================] - 0s 976us/step - loss: 0.0153\n",
      "Epoch 31/100\n",
      "1/1 [==============================] - 0s 931us/step - loss: 0.0151\n",
      "Epoch 32/100\n",
      "1/1 [==============================] - 0s 976us/step - loss: 0.0150\n",
      "Epoch 33/100\n",
      "1/1 [==============================] - 0s 0s/step - loss: 0.0149\n",
      "Epoch 34/100\n",
      "1/1 [==============================] - 0s 0s/step - loss: 0.0148\n",
      "Epoch 35/100\n",
      "1/1 [==============================] - 0s 976us/step - loss: 0.0147\n",
      "Epoch 36/100\n",
      "1/1 [==============================] - 0s 0s/step - loss: 0.0145\n",
      "Epoch 37/100\n",
      "1/1 [==============================] - 0s 0s/step - loss: 0.0144\n",
      "Epoch 38/100\n",
      "1/1 [==============================] - 0s 977us/step - loss: 0.0143\n",
      "Epoch 39/100\n",
      "1/1 [==============================] - 0s 999us/step - loss: 0.0142\n",
      "Epoch 40/100\n",
      "1/1 [==============================] - 0s 976us/step - loss: 0.0141\n",
      "Epoch 41/100\n",
      "1/1 [==============================] - 0s 976us/step - loss: 0.0139\n",
      "Epoch 42/100\n",
      "1/1 [==============================] - 0s 0s/step - loss: 0.0138\n",
      "Epoch 43/100\n",
      "1/1 [==============================] - 0s 978us/step - loss: 0.0137\n",
      "Epoch 44/100\n",
      "1/1 [==============================] - 0s 976us/step - loss: 0.0136\n",
      "Epoch 45/100\n",
      "1/1 [==============================] - 0s 0s/step - loss: 0.0135\n",
      "Epoch 46/100\n",
      "1/1 [==============================] - 0s 977us/step - loss: 0.0134\n",
      "Epoch 47/100\n",
      "1/1 [==============================] - 0s 976us/step - loss: 0.0133\n",
      "Epoch 48/100\n",
      "1/1 [==============================] - 0s 976us/step - loss: 0.0132\n",
      "Epoch 49/100\n",
      "1/1 [==============================] - 0s 0s/step - loss: 0.0131\n",
      "Epoch 50/100\n",
      "1/1 [==============================] - 0s 975us/step - loss: 0.0130\n",
      "Epoch 51/100\n",
      "1/1 [==============================] - 0s 976us/step - loss: 0.0128\n",
      "Epoch 52/100\n",
      "1/1 [==============================] - 0s 0s/step - loss: 0.0127\n",
      "Epoch 53/100\n",
      "1/1 [==============================] - 0s 0s/step - loss: 0.0126\n",
      "Epoch 54/100\n",
      "1/1 [==============================] - 0s 976us/step - loss: 0.0125\n",
      "Epoch 55/100\n",
      "1/1 [==============================] - 0s 0s/step - loss: 0.0124\n",
      "Epoch 56/100\n",
      "1/1 [==============================] - 0s 0s/step - loss: 0.0123\n",
      "Epoch 57/100\n",
      "1/1 [==============================] - 0s 0s/step - loss: 0.0122\n",
      "Epoch 58/100\n",
      "1/1 [==============================] - 0s 0s/step - loss: 0.0121\n",
      "Epoch 59/100\n",
      "1/1 [==============================] - 0s 0s/step - loss: 0.0120\n",
      "Epoch 60/100\n",
      "1/1 [==============================] - 0s 2ms/step - loss: 0.0119\n",
      "Epoch 61/100\n",
      "1/1 [==============================] - 0s 976us/step - loss: 0.0118\n",
      "Epoch 62/100\n",
      "1/1 [==============================] - 0s 976us/step - loss: 0.0117\n",
      "Epoch 63/100\n",
      "1/1 [==============================] - 0s 0s/step - loss: 0.0116\n",
      "Epoch 64/100\n",
      "1/1 [==============================] - 0s 975us/step - loss: 0.0115\n",
      "Epoch 65/100\n",
      "1/1 [==============================] - 0s 0s/step - loss: 0.0114\n",
      "Epoch 66/100\n",
      "1/1 [==============================] - 0s 0s/step - loss: 0.0114\n",
      "Epoch 67/100\n",
      "1/1 [==============================] - 0s 976us/step - loss: 0.0113\n",
      "Epoch 68/100\n",
      "1/1 [==============================] - 0s 976us/step - loss: 0.0112\n",
      "Epoch 69/100\n",
      "1/1 [==============================] - 0s 976us/step - loss: 0.0111\n",
      "Epoch 70/100\n",
      "1/1 [==============================] - 0s 976us/step - loss: 0.0110\n",
      "Epoch 71/100\n",
      "1/1 [==============================] - 0s 0s/step - loss: 0.0109\n",
      "Epoch 72/100\n",
      "1/1 [==============================] - 0s 976us/step - loss: 0.0108\n",
      "Epoch 73/100\n",
      "1/1 [==============================] - 0s 976us/step - loss: 0.0107\n",
      "Epoch 74/100\n",
      "1/1 [==============================] - 0s 0s/step - loss: 0.0106\n",
      "Epoch 75/100\n",
      "1/1 [==============================] - 0s 977us/step - loss: 0.0105\n",
      "Epoch 76/100\n",
      "1/1 [==============================] - 0s 0s/step - loss: 0.0105\n",
      "Epoch 77/100\n",
      "1/1 [==============================] - 0s 977us/step - loss: 0.0104\n",
      "Epoch 78/100\n",
      "1/1 [==============================] - 0s 975us/step - loss: 0.0103\n",
      "Epoch 79/100\n",
      "1/1 [==============================] - 0s 977us/step - loss: 0.0102\n",
      "Epoch 80/100\n",
      "1/1 [==============================] - 0s 976us/step - loss: 0.0101\n",
      "Epoch 81/100\n",
      "1/1 [==============================] - 0s 976us/step - loss: 0.0100\n",
      "Epoch 82/100\n",
      "1/1 [==============================] - 0s 977us/step - loss: 0.0100\n",
      "Epoch 83/100\n",
      "1/1 [==============================] - 0s 976us/step - loss: 0.0099\n",
      "Epoch 84/100\n",
      "1/1 [==============================] - 0s 976us/step - loss: 0.0098\n",
      "Epoch 85/100\n",
      "1/1 [==============================] - 0s 0s/step - loss: 0.0097\n",
      "Epoch 86/100\n",
      "1/1 [==============================] - 0s 976us/step - loss: 0.0096\n",
      "Epoch 87/100\n",
      "1/1 [==============================] - 0s 0s/step - loss: 0.0096\n",
      "Epoch 88/100\n",
      "1/1 [==============================] - 0s 0s/step - loss: 0.0095\n",
      "Epoch 89/100\n",
      "1/1 [==============================] - 0s 0s/step - loss: 0.0094\n",
      "Epoch 90/100\n",
      "1/1 [==============================] - 0s 976us/step - loss: 0.0093\n",
      "Epoch 91/100\n",
      "1/1 [==============================] - 0s 976us/step - loss: 0.0092\n",
      "Epoch 92/100\n",
      "1/1 [==============================] - 0s 0s/step - loss: 0.0092\n",
      "Epoch 93/100\n",
      "1/1 [==============================] - 0s 976us/step - loss: 0.0091\n",
      "Epoch 94/100\n",
      "1/1 [==============================] - 0s 0s/step - loss: 0.0090\n",
      "Epoch 95/100\n",
      "1/1 [==============================] - 0s 0s/step - loss: 0.0089\n",
      "Epoch 96/100\n",
      "1/1 [==============================] - 0s 0s/step - loss: 0.0089\n",
      "Epoch 97/100\n"
     ]
    },
    {
     "name": "stdout",
     "output_type": "stream",
     "text": [
      "1/1 [==============================] - 0s 976us/step - loss: 0.0088\n",
      "Epoch 98/100\n",
      "1/1 [==============================] - 0s 976us/step - loss: 0.0087\n",
      "Epoch 99/100\n",
      "1/1 [==============================] - 0s 977us/step - loss: 0.0087\n",
      "Epoch 100/100\n",
      "1/1 [==============================] - 0s 976us/step - loss: 0.0086\n",
      "[[15.945435]]\n"
     ]
    }
   ],
   "source": [
    "x_train=np.array([1,2,3,4,5,6,7,8,9])\n",
    "y_train=np.array([2,4,6,8,10,12,14,16,18])\n",
    "\n",
    "model=keras.Sequential(\n",
    "    [\n",
    "    layers.Dense(1,input_shape=[1]), \n",
    "    ])\n",
    "\n",
    "print(model.summary())\n",
    "model.compile(\n",
    "    loss=\"mean_squared_error\",\n",
    "    optimizer=\"sgd\",\n",
    "             )\n",
    "model.fit(x_train,y_train,epochs=100)\n",
    "\n",
    "print(model.predict([8]))\n"
   ]
  },
  {
   "cell_type": "markdown",
   "id": "8bbdf815",
   "metadata": {},
   "source": [
    "## Convolutional Neural Networks with Sequential and Functional API"
   ]
  },
  {
   "cell_type": "code",
   "execution_count": 67,
   "id": "4f6c9359",
   "metadata": {},
   "outputs": [],
   "source": [
    "import tensorflow as tf\n",
    "from tensorflow import keras\n",
    "from tensorflow.keras import layers\n",
    "from tensorflow.keras.datasets import cifar10"
   ]
  },
  {
   "cell_type": "code",
   "execution_count": 70,
   "id": "7fec0078",
   "metadata": {},
   "outputs": [
    {
     "name": "stdout",
     "output_type": "stream",
     "text": [
      "(50000, 32, 32, 3)\n",
      "(50000, 1)\n",
      "255\n"
     ]
    }
   ],
   "source": [
    "(x_train,y_train),(x_test,y_test)=cifar10.load_data()\n",
    "\n",
    "print(x_train.shape)\n",
    "print(y_train.shape)\n",
    "print(np.max(x_train))\n",
    "\n",
    "x_train=x_train.astype(\"float32\")/255\n",
    "x_test=x_test.astype(\"float32\")/255\n",
    "\n",
    "model=keras.sequential(\n",
    "    [\n",
    "        keras.Input(shape=(32,32,3)),\n",
    "        layers.Conv2D(32,3,padding=\"valid\",activation=\"relu\"),\n",
    "        layers.MaxPooling2D(pool_size=(2,2)),\n",
    "        layers.Conv2D(64,3,activation=\"relu\"),\n",
    "        layers.MaxPooling2D(),\n",
    "        layers.Conv2D(128,3,activation=\"relu\"),\n",
    "        layers.Flatten(),\n",
    "        layer.Dense(64,activation=True),\n",
    "        layers.Dense(10),        \n",
    "    ])\n",
    "\n",
    "\n",
    "model.compile(\n",
    "    loss=keras.losses.SparseCategoricalCrossentropy(from_logits=True),\n",
    "    optimizer=keras.optimizers.Adam(lr=3e-4),\n",
    "    metrics=[\"accuracy\"],\n",
    "             )"
   ]
  },
  {
   "cell_type": "code",
   "execution_count": null,
   "id": "633a8722",
   "metadata": {},
   "outputs": [],
   "source": []
  },
  {
   "cell_type": "code",
   "execution_count": null,
   "id": "93b2b2e0",
   "metadata": {},
   "outputs": [],
   "source": []
  },
  {
   "cell_type": "code",
   "execution_count": null,
   "id": "37bcc524",
   "metadata": {},
   "outputs": [],
   "source": []
  }
 ],
 "metadata": {
  "kernelspec": {
   "display_name": "Python 3 (ipykernel)",
   "language": "python",
   "name": "python3"
  },
  "language_info": {
   "codemirror_mode": {
    "name": "ipython",
    "version": 3
   },
   "file_extension": ".py",
   "mimetype": "text/x-python",
   "name": "python",
   "nbconvert_exporter": "python",
   "pygments_lexer": "ipython3",
   "version": "3.8.8"
  }
 },
 "nbformat": 4,
 "nbformat_minor": 5
}
